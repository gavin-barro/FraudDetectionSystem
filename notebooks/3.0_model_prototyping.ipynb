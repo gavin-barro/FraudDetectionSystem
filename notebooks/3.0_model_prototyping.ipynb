{
 "cells": [
  {
   "cell_type": "markdown",
   "id": "f037a264",
   "metadata": {},
   "source": [
    "# Experimenting with different models"
   ]
  }
 ],
 "metadata": {
  "language_info": {
   "name": "python"
  }
 },
 "nbformat": 4,
 "nbformat_minor": 5
}
